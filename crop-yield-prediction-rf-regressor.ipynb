{
 "cells": [
  {
   "cell_type": "code",
   "execution_count": 1,
   "id": "1a312ff6",
   "metadata": {},
   "outputs": [],
   "source": [
    "import pandas as pd\n",
    "import numpy as np"
   ]
  },
  {
   "cell_type": "code",
   "execution_count": 2,
   "id": "5035bd49",
   "metadata": {
    "execution": {
     "iopub.execute_input": "2024-08-26T18:43:05.252475Z",
     "iopub.status.busy": "2024-08-26T18:43:05.252096Z",
     "iopub.status.idle": "2024-08-26T18:43:05.320476Z",
     "shell.execute_reply": "2024-08-26T18:43:05.319510Z"
    },
    "papermill": {
     "duration": 0.080908,
     "end_time": "2024-08-26T18:43:05.322689",
     "exception": false,
     "start_time": "2024-08-26T18:43:05.241781",
     "status": "completed"
    },
    "tags": []
   },
   "outputs": [],
   "source": [
    "df = pd.read_csv('crop_yield.csv')"
   ]
  },
  {
   "cell_type": "code",
   "execution_count": 3,
   "id": "5ffd9a49",
   "metadata": {
    "execution": {
     "iopub.execute_input": "2024-08-26T18:43:05.343395Z",
     "iopub.status.busy": "2024-08-26T18:43:05.343085Z",
     "iopub.status.idle": "2024-08-26T18:43:05.367131Z",
     "shell.execute_reply": "2024-08-26T18:43:05.366232Z"
    },
    "papermill": {
     "duration": 0.036512,
     "end_time": "2024-08-26T18:43:05.369081",
     "exception": false,
     "start_time": "2024-08-26T18:43:05.332569",
     "status": "completed"
    },
    "tags": []
   },
   "outputs": [
    {
     "data": {
      "text/html": [
       "<div>\n",
       "<style scoped>\n",
       "    .dataframe tbody tr th:only-of-type {\n",
       "        vertical-align: middle;\n",
       "    }\n",
       "\n",
       "    .dataframe tbody tr th {\n",
       "        vertical-align: top;\n",
       "    }\n",
       "\n",
       "    .dataframe thead th {\n",
       "        text-align: right;\n",
       "    }\n",
       "</style>\n",
       "<table border=\"1\" class=\"dataframe\">\n",
       "  <thead>\n",
       "    <tr style=\"text-align: right;\">\n",
       "      <th></th>\n",
       "      <th>Crop</th>\n",
       "      <th>Crop_Year</th>\n",
       "      <th>Season</th>\n",
       "      <th>State</th>\n",
       "      <th>Area</th>\n",
       "      <th>Production</th>\n",
       "      <th>Annual_Rainfall</th>\n",
       "      <th>Fertilizer</th>\n",
       "      <th>Pesticide</th>\n",
       "      <th>Yield</th>\n",
       "    </tr>\n",
       "  </thead>\n",
       "  <tbody>\n",
       "    <tr>\n",
       "      <th>0</th>\n",
       "      <td>Arecanut</td>\n",
       "      <td>1997</td>\n",
       "      <td>Whole Year</td>\n",
       "      <td>Assam</td>\n",
       "      <td>73814.0</td>\n",
       "      <td>56708</td>\n",
       "      <td>2051.4</td>\n",
       "      <td>7024878.38</td>\n",
       "      <td>22882.34</td>\n",
       "      <td>0.796087</td>\n",
       "    </tr>\n",
       "    <tr>\n",
       "      <th>1</th>\n",
       "      <td>Arhar/Tur</td>\n",
       "      <td>1997</td>\n",
       "      <td>Kharif</td>\n",
       "      <td>Assam</td>\n",
       "      <td>6637.0</td>\n",
       "      <td>4685</td>\n",
       "      <td>2051.4</td>\n",
       "      <td>631643.29</td>\n",
       "      <td>2057.47</td>\n",
       "      <td>0.710435</td>\n",
       "    </tr>\n",
       "    <tr>\n",
       "      <th>2</th>\n",
       "      <td>Castor seed</td>\n",
       "      <td>1997</td>\n",
       "      <td>Kharif</td>\n",
       "      <td>Assam</td>\n",
       "      <td>796.0</td>\n",
       "      <td>22</td>\n",
       "      <td>2051.4</td>\n",
       "      <td>75755.32</td>\n",
       "      <td>246.76</td>\n",
       "      <td>0.238333</td>\n",
       "    </tr>\n",
       "    <tr>\n",
       "      <th>3</th>\n",
       "      <td>Coconut</td>\n",
       "      <td>1997</td>\n",
       "      <td>Whole Year</td>\n",
       "      <td>Assam</td>\n",
       "      <td>19656.0</td>\n",
       "      <td>126905000</td>\n",
       "      <td>2051.4</td>\n",
       "      <td>1870661.52</td>\n",
       "      <td>6093.36</td>\n",
       "      <td>5238.051739</td>\n",
       "    </tr>\n",
       "    <tr>\n",
       "      <th>4</th>\n",
       "      <td>Cotton(lint)</td>\n",
       "      <td>1997</td>\n",
       "      <td>Kharif</td>\n",
       "      <td>Assam</td>\n",
       "      <td>1739.0</td>\n",
       "      <td>794</td>\n",
       "      <td>2051.4</td>\n",
       "      <td>165500.63</td>\n",
       "      <td>539.09</td>\n",
       "      <td>0.420909</td>\n",
       "    </tr>\n",
       "  </tbody>\n",
       "</table>\n",
       "</div>"
      ],
      "text/plain": [
       "           Crop  Crop_Year       Season  State     Area  Production  \\\n",
       "0      Arecanut       1997  Whole Year   Assam  73814.0       56708   \n",
       "1     Arhar/Tur       1997  Kharif       Assam   6637.0        4685   \n",
       "2   Castor seed       1997  Kharif       Assam    796.0          22   \n",
       "3      Coconut        1997  Whole Year   Assam  19656.0   126905000   \n",
       "4  Cotton(lint)       1997  Kharif       Assam   1739.0         794   \n",
       "\n",
       "   Annual_Rainfall  Fertilizer  Pesticide        Yield  \n",
       "0           2051.4  7024878.38   22882.34     0.796087  \n",
       "1           2051.4   631643.29    2057.47     0.710435  \n",
       "2           2051.4    75755.32     246.76     0.238333  \n",
       "3           2051.4  1870661.52    6093.36  5238.051739  \n",
       "4           2051.4   165500.63     539.09     0.420909  "
      ]
     },
     "execution_count": 3,
     "metadata": {},
     "output_type": "execute_result"
    }
   ],
   "source": [
    "df.head(5)"
   ]
  },
  {
   "cell_type": "code",
   "execution_count": 4,
   "id": "56e80e6e",
   "metadata": {
    "execution": {
     "iopub.execute_input": "2024-08-26T18:43:05.389467Z",
     "iopub.status.busy": "2024-08-26T18:43:05.389202Z",
     "iopub.status.idle": "2024-08-26T18:43:05.397880Z",
     "shell.execute_reply": "2024-08-26T18:43:05.397072Z"
    },
    "papermill": {
     "duration": 0.021164,
     "end_time": "2024-08-26T18:43:05.399819",
     "exception": false,
     "start_time": "2024-08-26T18:43:05.378655",
     "status": "completed"
    },
    "tags": []
   },
   "outputs": [
    {
     "data": {
      "text/plain": [
       "array(['Whole Year ', 'Kharif     ', 'Rabi       ', 'Autumn     ',\n",
       "       'Summer     ', 'Winter     '], dtype=object)"
      ]
     },
     "execution_count": 4,
     "metadata": {},
     "output_type": "execute_result"
    }
   ],
   "source": [
    "df['Season'].unique()"
   ]
  },
  {
   "cell_type": "code",
   "execution_count": 5,
   "id": "d8632b3b",
   "metadata": {
    "execution": {
     "iopub.execute_input": "2024-08-26T18:43:05.421160Z",
     "iopub.status.busy": "2024-08-26T18:43:05.420873Z",
     "iopub.status.idle": "2024-08-26T18:43:05.426241Z",
     "shell.execute_reply": "2024-08-26T18:43:05.425378Z"
    },
    "papermill": {
     "duration": 0.018403,
     "end_time": "2024-08-26T18:43:05.428292",
     "exception": false,
     "start_time": "2024-08-26T18:43:05.409889",
     "status": "completed"
    },
    "tags": []
   },
   "outputs": [
    {
     "data": {
      "text/plain": [
       "(19689, 10)"
      ]
     },
     "execution_count": 5,
     "metadata": {},
     "output_type": "execute_result"
    }
   ],
   "source": [
    "df.shape"
   ]
  },
  {
   "cell_type": "markdown",
   "id": "3f89f547",
   "metadata": {
    "papermill": {
     "duration": 0.010161,
     "end_time": "2024-08-26T18:43:05.448866",
     "exception": false,
     "start_time": "2024-08-26T18:43:05.438705",
     "status": "completed"
    },
    "tags": []
   },
   "source": [
    "# Data Preprocessing"
   ]
  },
  {
   "cell_type": "code",
   "execution_count": 6,
   "id": "7d3f9aa9",
   "metadata": {
    "execution": {
     "iopub.execute_input": "2024-08-26T18:43:05.471257Z",
     "iopub.status.busy": "2024-08-26T18:43:05.470969Z",
     "iopub.status.idle": "2024-08-26T18:43:05.479381Z",
     "shell.execute_reply": "2024-08-26T18:43:05.478531Z"
    },
    "papermill": {
     "duration": 0.021651,
     "end_time": "2024-08-26T18:43:05.481647",
     "exception": false,
     "start_time": "2024-08-26T18:43:05.459996",
     "status": "completed"
    },
    "tags": []
   },
   "outputs": [],
   "source": [
    "df=df[df['Crop_Year']!=2020]"
   ]
  },
  {
   "cell_type": "code",
   "execution_count": 7,
   "id": "ee7c9e54",
   "metadata": {
    "execution": {
     "iopub.execute_input": "2024-08-26T18:43:05.504218Z",
     "iopub.status.busy": "2024-08-26T18:43:05.503860Z",
     "iopub.status.idle": "2024-08-26T18:43:05.516281Z",
     "shell.execute_reply": "2024-08-26T18:43:05.515400Z"
    },
    "papermill": {
     "duration": 0.025945,
     "end_time": "2024-08-26T18:43:05.518222",
     "exception": false,
     "start_time": "2024-08-26T18:43:05.492277",
     "status": "completed"
    },
    "tags": []
   },
   "outputs": [],
   "source": [
    "# removing spaces prresent in season column\n",
    "df['Season'] = df['Season'].str.strip()"
   ]
  },
  {
   "cell_type": "code",
   "execution_count": 8,
   "id": "5fe2e33d",
   "metadata": {
    "execution": {
     "iopub.execute_input": "2024-08-26T18:43:05.540854Z",
     "iopub.status.busy": "2024-08-26T18:43:05.540216Z",
     "iopub.status.idle": "2024-08-26T18:43:05.961669Z",
     "shell.execute_reply": "2024-08-26T18:43:05.960623Z"
    },
    "papermill": {
     "duration": 0.435746,
     "end_time": "2024-08-26T18:43:05.964132",
     "exception": false,
     "start_time": "2024-08-26T18:43:05.528386",
     "status": "completed"
    },
    "tags": []
   },
   "outputs": [],
   "source": [
    "# Convert Fertilizer and pesticide columns from kgs into tons\n",
    "\n",
    "df['Fertilizer'] = df['Fertilizer'].apply(lambda x: x/1000)\n",
    "df['Fertilizer'] = df['Fertilizer'].apply(lambda x: np.round(x,3))\n",
    "\n",
    "df['Pesticide'] = df['Pesticide'].apply(lambda x: x/1000)\n",
    "df['Pesticide'] = df['Pesticide'].apply(lambda x: np.round(x,3))"
   ]
  },
  {
   "cell_type": "code",
   "execution_count": 9,
   "id": "710e7828",
   "metadata": {
    "execution": {
     "iopub.execute_input": "2024-08-26T18:43:05.986926Z",
     "iopub.status.busy": "2024-08-26T18:43:05.986636Z",
     "iopub.status.idle": "2024-08-26T18:43:05.992336Z",
     "shell.execute_reply": "2024-08-26T18:43:05.991471Z"
    },
    "papermill": {
     "duration": 0.019184,
     "end_time": "2024-08-26T18:43:05.994341",
     "exception": false,
     "start_time": "2024-08-26T18:43:05.975157",
     "status": "completed"
    },
    "tags": []
   },
   "outputs": [],
   "source": [
    "df['Input_Per_Unit_Area'] = (df['Fertilizer'] + df['Pesticide']) / df['Area']"
   ]
  },
  {
   "cell_type": "code",
   "execution_count": 10,
   "id": "f0a28c34",
   "metadata": {
    "execution": {
     "iopub.execute_input": "2024-08-26T18:43:06.016823Z",
     "iopub.status.busy": "2024-08-26T18:43:06.016509Z",
     "iopub.status.idle": "2024-08-26T18:43:06.025156Z",
     "shell.execute_reply": "2024-08-26T18:43:06.024398Z"
    },
    "papermill": {
     "duration": 0.022144,
     "end_time": "2024-08-26T18:43:06.027085",
     "exception": false,
     "start_time": "2024-08-26T18:43:06.004941",
     "status": "completed"
    },
    "tags": []
   },
   "outputs": [],
   "source": [
    "# dropping this row because it's a extreme outlier\n",
    "df.drop(119, inplace=True)"
   ]
  },
  {
   "cell_type": "code",
   "execution_count": 11,
   "id": "ae807f75",
   "metadata": {
    "execution": {
     "iopub.execute_input": "2024-08-26T18:43:06.048711Z",
     "iopub.status.busy": "2024-08-26T18:43:06.048434Z",
     "iopub.status.idle": "2024-08-26T18:43:06.054757Z",
     "shell.execute_reply": "2024-08-26T18:43:06.054038Z"
    },
    "papermill": {
     "duration": 0.019151,
     "end_time": "2024-08-26T18:43:06.056630",
     "exception": false,
     "start_time": "2024-08-26T18:43:06.037479",
     "status": "completed"
    },
    "tags": []
   },
   "outputs": [],
   "source": [
    "df.drop(columns=['Fertilizer','Pesticide'], inplace=True)"
   ]
  },
  {
   "cell_type": "code",
   "execution_count": 12,
   "id": "2ee4fbdb",
   "metadata": {
    "execution": {
     "iopub.execute_input": "2024-08-26T18:43:06.077437Z",
     "iopub.status.busy": "2024-08-26T18:43:06.077180Z",
     "iopub.status.idle": "2024-08-26T18:43:06.087689Z",
     "shell.execute_reply": "2024-08-26T18:43:06.086856Z"
    },
    "papermill": {
     "duration": 0.023017,
     "end_time": "2024-08-26T18:43:06.089523",
     "exception": false,
     "start_time": "2024-08-26T18:43:06.066506",
     "status": "completed"
    },
    "tags": []
   },
   "outputs": [],
   "source": [
    "# Categorize crop_year\n",
    "bins = [1990, 2000, 2010, 2020]  # Example bins, adjust based on your data range\n",
    "labels = ['90s', '2000s', '2010s']\n",
    "df['Year_Interval'] = pd.cut(df['Crop_Year'], bins=bins, labels=labels)"
   ]
  },
  {
   "cell_type": "code",
   "execution_count": 13,
   "id": "bfe8d560",
   "metadata": {
    "execution": {
     "iopub.execute_input": "2024-08-26T18:43:06.110900Z",
     "iopub.status.busy": "2024-08-26T18:43:06.110581Z",
     "iopub.status.idle": "2024-08-26T18:43:06.117204Z",
     "shell.execute_reply": "2024-08-26T18:43:06.116479Z"
    },
    "papermill": {
     "duration": 0.019661,
     "end_time": "2024-08-26T18:43:06.119134",
     "exception": false,
     "start_time": "2024-08-26T18:43:06.099473",
     "status": "completed"
    },
    "tags": []
   },
   "outputs": [],
   "source": [
    "df.drop(columns=['Crop_Year'],inplace=True)"
   ]
  },
  {
   "cell_type": "code",
   "execution_count": 14,
   "id": "8d65ad38",
   "metadata": {
    "execution": {
     "iopub.execute_input": "2024-08-26T18:43:06.141471Z",
     "iopub.status.busy": "2024-08-26T18:43:06.141193Z",
     "iopub.status.idle": "2024-08-26T18:43:06.146963Z",
     "shell.execute_reply": "2024-08-26T18:43:06.146070Z"
    },
    "papermill": {
     "duration": 0.019627,
     "end_time": "2024-08-26T18:43:06.148948",
     "exception": false,
     "start_time": "2024-08-26T18:43:06.129321",
     "status": "completed"
    },
    "tags": []
   },
   "outputs": [
    {
     "data": {
      "text/plain": [
       "(19651, 9)"
      ]
     },
     "execution_count": 14,
     "metadata": {},
     "output_type": "execute_result"
    }
   ],
   "source": [
    "df.shape"
   ]
  },
  {
   "cell_type": "code",
   "execution_count": 15,
   "id": "a270abb4",
   "metadata": {
    "execution": {
     "iopub.execute_input": "2024-08-26T18:43:06.170763Z",
     "iopub.status.busy": "2024-08-26T18:43:06.170134Z",
     "iopub.status.idle": "2024-08-26T18:43:06.175679Z",
     "shell.execute_reply": "2024-08-26T18:43:06.174846Z"
    },
    "papermill": {
     "duration": 0.018512,
     "end_time": "2024-08-26T18:43:06.177659",
     "exception": false,
     "start_time": "2024-08-26T18:43:06.159147",
     "status": "completed"
    },
    "tags": []
   },
   "outputs": [
    {
     "data": {
      "text/plain": [
       "Index(['Crop', 'Season', 'State', 'Area', 'Production', 'Annual_Rainfall',\n",
       "       'Yield', 'Input_Per_Unit_Area', 'Year_Interval'],\n",
       "      dtype='object')"
      ]
     },
     "execution_count": 15,
     "metadata": {},
     "output_type": "execute_result"
    }
   ],
   "source": [
    "df.columns"
   ]
  },
  {
   "cell_type": "code",
   "execution_count": 16,
   "id": "13839d4d",
   "metadata": {
    "execution": {
     "iopub.execute_input": "2024-08-26T18:43:06.199658Z",
     "iopub.status.busy": "2024-08-26T18:43:06.199161Z",
     "iopub.status.idle": "2024-08-26T18:43:06.221730Z",
     "shell.execute_reply": "2024-08-26T18:43:06.220614Z"
    },
    "papermill": {
     "duration": 0.035933,
     "end_time": "2024-08-26T18:43:06.224035",
     "exception": false,
     "start_time": "2024-08-26T18:43:06.188102",
     "status": "completed"
    },
    "tags": []
   },
   "outputs": [
    {
     "name": "stdout",
     "output_type": "stream",
     "text": [
      "<class 'pandas.core.frame.DataFrame'>\n",
      "Index: 19651 entries, 0 to 19688\n",
      "Data columns (total 9 columns):\n",
      " #   Column               Non-Null Count  Dtype   \n",
      "---  ------               --------------  -----   \n",
      " 0   Crop                 19651 non-null  object  \n",
      " 1   Season               19651 non-null  object  \n",
      " 2   State                19651 non-null  object  \n",
      " 3   Area                 19651 non-null  float64 \n",
      " 4   Production           19651 non-null  int64   \n",
      " 5   Annual_Rainfall      19651 non-null  float64 \n",
      " 6   Yield                19651 non-null  float64 \n",
      " 7   Input_Per_Unit_Area  19651 non-null  float64 \n",
      " 8   Year_Interval        19651 non-null  category\n",
      "dtypes: category(1), float64(4), int64(1), object(3)\n",
      "memory usage: 1.4+ MB\n"
     ]
    }
   ],
   "source": [
    "df.info()"
   ]
  },
  {
   "cell_type": "code",
   "execution_count": 17,
   "id": "84d93bd0",
   "metadata": {
    "execution": {
     "iopub.execute_input": "2024-08-26T18:43:06.248774Z",
     "iopub.status.busy": "2024-08-26T18:43:06.248490Z",
     "iopub.status.idle": "2024-08-26T18:43:06.274650Z",
     "shell.execute_reply": "2024-08-26T18:43:06.273850Z"
    },
    "papermill": {
     "duration": 0.040696,
     "end_time": "2024-08-26T18:43:06.276511",
     "exception": false,
     "start_time": "2024-08-26T18:43:06.235815",
     "status": "completed"
    },
    "tags": []
   },
   "outputs": [
    {
     "data": {
      "text/html": [
       "<div>\n",
       "<style scoped>\n",
       "    .dataframe tbody tr th:only-of-type {\n",
       "        vertical-align: middle;\n",
       "    }\n",
       "\n",
       "    .dataframe tbody tr th {\n",
       "        vertical-align: top;\n",
       "    }\n",
       "\n",
       "    .dataframe thead th {\n",
       "        text-align: right;\n",
       "    }\n",
       "</style>\n",
       "<table border=\"1\" class=\"dataframe\">\n",
       "  <thead>\n",
       "    <tr style=\"text-align: right;\">\n",
       "      <th></th>\n",
       "      <th>Area</th>\n",
       "      <th>Production</th>\n",
       "      <th>Annual_Rainfall</th>\n",
       "      <th>Yield</th>\n",
       "      <th>Input_Per_Unit_Area</th>\n",
       "    </tr>\n",
       "  </thead>\n",
       "  <tbody>\n",
       "    <tr>\n",
       "      <th>count</th>\n",
       "      <td>1.965100e+04</td>\n",
       "      <td>1.965100e+04</td>\n",
       "      <td>19651.000000</td>\n",
       "      <td>19651.000000</td>\n",
       "      <td>19651.000000</td>\n",
       "    </tr>\n",
       "    <tr>\n",
       "      <th>mean</th>\n",
       "      <td>1.802272e+05</td>\n",
       "      <td>1.646721e+07</td>\n",
       "      <td>1437.967162</td>\n",
       "      <td>80.100282</td>\n",
       "      <td>0.137329</td>\n",
       "    </tr>\n",
       "    <tr>\n",
       "      <th>std</th>\n",
       "      <td>7.335000e+05</td>\n",
       "      <td>2.633101e+08</td>\n",
       "      <td>817.676055</td>\n",
       "      <td>879.148542</td>\n",
       "      <td>0.026137</td>\n",
       "    </tr>\n",
       "    <tr>\n",
       "      <th>min</th>\n",
       "      <td>5.000000e-01</td>\n",
       "      <td>0.000000e+00</td>\n",
       "      <td>301.300000</td>\n",
       "      <td>0.000000</td>\n",
       "      <td>0.094800</td>\n",
       "    </tr>\n",
       "    <tr>\n",
       "      <th>25%</th>\n",
       "      <td>1.396000e+03</td>\n",
       "      <td>1.400000e+03</td>\n",
       "      <td>940.700000</td>\n",
       "      <td>0.599372</td>\n",
       "      <td>0.108550</td>\n",
       "    </tr>\n",
       "    <tr>\n",
       "      <th>50%</th>\n",
       "      <td>9.328000e+03</td>\n",
       "      <td>1.383000e+04</td>\n",
       "      <td>1247.000000</td>\n",
       "      <td>1.030000</td>\n",
       "      <td>0.144760</td>\n",
       "    </tr>\n",
       "    <tr>\n",
       "      <th>75%</th>\n",
       "      <td>7.523800e+04</td>\n",
       "      <td>1.230055e+05</td>\n",
       "      <td>1643.700000</td>\n",
       "      <td>2.390714</td>\n",
       "      <td>0.158000</td>\n",
       "    </tr>\n",
       "    <tr>\n",
       "      <th>max</th>\n",
       "      <td>5.080810e+07</td>\n",
       "      <td>6.326000e+09</td>\n",
       "      <td>6552.700000</td>\n",
       "      <td>21105.000000</td>\n",
       "      <td>0.172500</td>\n",
       "    </tr>\n",
       "  </tbody>\n",
       "</table>\n",
       "</div>"
      ],
      "text/plain": [
       "               Area    Production  Annual_Rainfall         Yield  \\\n",
       "count  1.965100e+04  1.965100e+04     19651.000000  19651.000000   \n",
       "mean   1.802272e+05  1.646721e+07      1437.967162     80.100282   \n",
       "std    7.335000e+05  2.633101e+08       817.676055    879.148542   \n",
       "min    5.000000e-01  0.000000e+00       301.300000      0.000000   \n",
       "25%    1.396000e+03  1.400000e+03       940.700000      0.599372   \n",
       "50%    9.328000e+03  1.383000e+04      1247.000000      1.030000   \n",
       "75%    7.523800e+04  1.230055e+05      1643.700000      2.390714   \n",
       "max    5.080810e+07  6.326000e+09      6552.700000  21105.000000   \n",
       "\n",
       "       Input_Per_Unit_Area  \n",
       "count         19651.000000  \n",
       "mean              0.137329  \n",
       "std               0.026137  \n",
       "min               0.094800  \n",
       "25%               0.108550  \n",
       "50%               0.144760  \n",
       "75%               0.158000  \n",
       "max               0.172500  "
      ]
     },
     "execution_count": 17,
     "metadata": {},
     "output_type": "execute_result"
    }
   ],
   "source": [
    "df.describe()"
   ]
  },
  {
   "cell_type": "code",
   "execution_count": 18,
   "id": "527c72e2",
   "metadata": {
    "execution": {
     "iopub.execute_input": "2024-08-26T18:43:06.299582Z",
     "iopub.status.busy": "2024-08-26T18:43:06.299113Z",
     "iopub.status.idle": "2024-08-26T18:43:06.305841Z",
     "shell.execute_reply": "2024-08-26T18:43:06.304930Z"
    },
    "papermill": {
     "duration": 0.020445,
     "end_time": "2024-08-26T18:43:06.307925",
     "exception": false,
     "start_time": "2024-08-26T18:43:06.287480",
     "status": "completed"
    },
    "tags": []
   },
   "outputs": [
    {
     "data": {
      "text/plain": [
       "['90s', '2000s', '2010s']\n",
       "Categories (3, object): ['90s' < '2000s' < '2010s']"
      ]
     },
     "execution_count": 18,
     "metadata": {},
     "output_type": "execute_result"
    }
   ],
   "source": [
    "df['Year_Interval'].unique()"
   ]
  },
  {
   "cell_type": "code",
   "execution_count": 19,
   "id": "56cb13d3",
   "metadata": {
    "execution": {
     "iopub.execute_input": "2024-08-26T18:43:06.331405Z",
     "iopub.status.busy": "2024-08-26T18:43:06.331134Z",
     "iopub.status.idle": "2024-08-26T18:43:06.336346Z",
     "shell.execute_reply": "2024-08-26T18:43:06.335531Z"
    },
    "papermill": {
     "duration": 0.018823,
     "end_time": "2024-08-26T18:43:06.338207",
     "exception": false,
     "start_time": "2024-08-26T18:43:06.319384",
     "status": "completed"
    },
    "tags": []
   },
   "outputs": [
    {
     "data": {
      "text/plain": [
       "Index(['Crop', 'Season', 'State', 'Area', 'Production', 'Annual_Rainfall',\n",
       "       'Yield', 'Input_Per_Unit_Area', 'Year_Interval'],\n",
       "      dtype='object')"
      ]
     },
     "execution_count": 19,
     "metadata": {},
     "output_type": "execute_result"
    }
   ],
   "source": [
    "df.columns"
   ]
  },
  {
   "cell_type": "code",
   "execution_count": 20,
   "id": "a65d6bbb",
   "metadata": {
    "execution": {
     "iopub.execute_input": "2024-08-26T18:43:06.361133Z",
     "iopub.status.busy": "2024-08-26T18:43:06.360840Z",
     "iopub.status.idle": "2024-08-26T18:43:06.376011Z",
     "shell.execute_reply": "2024-08-26T18:43:06.375211Z"
    },
    "papermill": {
     "duration": 0.029126,
     "end_time": "2024-08-26T18:43:06.378282",
     "exception": false,
     "start_time": "2024-08-26T18:43:06.349156",
     "status": "completed"
    },
    "tags": []
   },
   "outputs": [
    {
     "data": {
      "text/html": [
       "<div>\n",
       "<style scoped>\n",
       "    .dataframe tbody tr th:only-of-type {\n",
       "        vertical-align: middle;\n",
       "    }\n",
       "\n",
       "    .dataframe tbody tr th {\n",
       "        vertical-align: top;\n",
       "    }\n",
       "\n",
       "    .dataframe thead th {\n",
       "        text-align: right;\n",
       "    }\n",
       "</style>\n",
       "<table border=\"1\" class=\"dataframe\">\n",
       "  <thead>\n",
       "    <tr style=\"text-align: right;\">\n",
       "      <th></th>\n",
       "      <th>Crop</th>\n",
       "      <th>Season</th>\n",
       "      <th>State</th>\n",
       "      <th>Area</th>\n",
       "      <th>Production</th>\n",
       "      <th>Annual_Rainfall</th>\n",
       "      <th>Yield</th>\n",
       "      <th>Input_Per_Unit_Area</th>\n",
       "      <th>Year_Interval</th>\n",
       "    </tr>\n",
       "  </thead>\n",
       "  <tbody>\n",
       "    <tr>\n",
       "      <th>0</th>\n",
       "      <td>Arecanut</td>\n",
       "      <td>Whole Year</td>\n",
       "      <td>Assam</td>\n",
       "      <td>73814.0</td>\n",
       "      <td>56708</td>\n",
       "      <td>2051.4</td>\n",
       "      <td>0.796087</td>\n",
       "      <td>0.09548</td>\n",
       "      <td>90s</td>\n",
       "    </tr>\n",
       "    <tr>\n",
       "      <th>1</th>\n",
       "      <td>Arhar/Tur</td>\n",
       "      <td>Kharif</td>\n",
       "      <td>Assam</td>\n",
       "      <td>6637.0</td>\n",
       "      <td>4685</td>\n",
       "      <td>2051.4</td>\n",
       "      <td>0.710435</td>\n",
       "      <td>0.09548</td>\n",
       "      <td>90s</td>\n",
       "    </tr>\n",
       "    <tr>\n",
       "      <th>2</th>\n",
       "      <td>Castor seed</td>\n",
       "      <td>Kharif</td>\n",
       "      <td>Assam</td>\n",
       "      <td>796.0</td>\n",
       "      <td>22</td>\n",
       "      <td>2051.4</td>\n",
       "      <td>0.238333</td>\n",
       "      <td>0.09548</td>\n",
       "      <td>90s</td>\n",
       "    </tr>\n",
       "    <tr>\n",
       "      <th>3</th>\n",
       "      <td>Coconut</td>\n",
       "      <td>Whole Year</td>\n",
       "      <td>Assam</td>\n",
       "      <td>19656.0</td>\n",
       "      <td>126905000</td>\n",
       "      <td>2051.4</td>\n",
       "      <td>5238.051739</td>\n",
       "      <td>0.09548</td>\n",
       "      <td>90s</td>\n",
       "    </tr>\n",
       "    <tr>\n",
       "      <th>4</th>\n",
       "      <td>Cotton(lint)</td>\n",
       "      <td>Kharif</td>\n",
       "      <td>Assam</td>\n",
       "      <td>1739.0</td>\n",
       "      <td>794</td>\n",
       "      <td>2051.4</td>\n",
       "      <td>0.420909</td>\n",
       "      <td>0.09548</td>\n",
       "      <td>90s</td>\n",
       "    </tr>\n",
       "  </tbody>\n",
       "</table>\n",
       "</div>"
      ],
      "text/plain": [
       "           Crop      Season  State     Area  Production  Annual_Rainfall  \\\n",
       "0      Arecanut  Whole Year  Assam  73814.0       56708           2051.4   \n",
       "1     Arhar/Tur      Kharif  Assam   6637.0        4685           2051.4   \n",
       "2   Castor seed      Kharif  Assam    796.0          22           2051.4   \n",
       "3      Coconut   Whole Year  Assam  19656.0   126905000           2051.4   \n",
       "4  Cotton(lint)      Kharif  Assam   1739.0         794           2051.4   \n",
       "\n",
       "         Yield  Input_Per_Unit_Area Year_Interval  \n",
       "0     0.796087              0.09548           90s  \n",
       "1     0.710435              0.09548           90s  \n",
       "2     0.238333              0.09548           90s  \n",
       "3  5238.051739              0.09548           90s  \n",
       "4     0.420909              0.09548           90s  "
      ]
     },
     "execution_count": 20,
     "metadata": {},
     "output_type": "execute_result"
    }
   ],
   "source": [
    "df.head(5)"
   ]
  },
  {
   "cell_type": "code",
   "execution_count": 21,
   "id": "6036234a",
   "metadata": {
    "execution": {
     "iopub.execute_input": "2024-08-26T18:43:06.403254Z",
     "iopub.status.busy": "2024-08-26T18:43:06.402710Z",
     "iopub.status.idle": "2024-08-26T18:43:06.408191Z",
     "shell.execute_reply": "2024-08-26T18:43:06.407228Z"
    },
    "papermill": {
     "duration": 0.020745,
     "end_time": "2024-08-26T18:43:06.410366",
     "exception": false,
     "start_time": "2024-08-26T18:43:06.389621",
     "status": "completed"
    },
    "tags": []
   },
   "outputs": [],
   "source": [
    "num_col = ['Area','Production','Annual_Rainfall','Input_Per_Unit_Area']\n",
    "ordinal_col = ['Season','Year_Interval']\n",
    "nominal_col = ['Crop','State']\n",
    "season_order = ['Winter','Summer','Autumn','Rabi','Kharif','Whole Year']\n",
    "year_order = ['90s','2000s','2010s']\n"
   ]
  },
  {
   "cell_type": "code",
   "execution_count": 22,
   "id": "02a4899c",
   "metadata": {
    "execution": {
     "iopub.execute_input": "2024-08-26T18:43:06.437173Z",
     "iopub.status.busy": "2024-08-26T18:43:06.436843Z",
     "iopub.status.idle": "2024-08-26T18:43:06.444836Z",
     "shell.execute_reply": "2024-08-26T18:43:06.443877Z"
    },
    "papermill": {
     "duration": 0.023666,
     "end_time": "2024-08-26T18:43:06.446915",
     "exception": false,
     "start_time": "2024-08-26T18:43:06.423249",
     "status": "completed"
    },
    "tags": []
   },
   "outputs": [
    {
     "data": {
      "text/plain": [
       "array(['Whole Year', 'Kharif', 'Rabi', 'Autumn', 'Summer', 'Winter'],\n",
       "      dtype=object)"
      ]
     },
     "execution_count": 22,
     "metadata": {},
     "output_type": "execute_result"
    }
   ],
   "source": [
    "df['Season'].unique()"
   ]
  },
  {
   "cell_type": "code",
   "execution_count": 23,
   "id": "ffb8f71b",
   "metadata": {
    "execution": {
     "iopub.execute_input": "2024-08-26T18:43:06.473930Z",
     "iopub.status.busy": "2024-08-26T18:43:06.473637Z",
     "iopub.status.idle": "2024-08-26T18:43:07.525777Z",
     "shell.execute_reply": "2024-08-26T18:43:07.524950Z"
    },
    "papermill": {
     "duration": 1.068156,
     "end_time": "2024-08-26T18:43:07.527977",
     "exception": false,
     "start_time": "2024-08-26T18:43:06.459821",
     "status": "completed"
    },
    "tags": []
   },
   "outputs": [],
   "source": [
    "from sklearn.preprocessing import RobustScaler, PowerTransformer, OneHotEncoder, OrdinalEncoder, StandardScaler\n",
    "from sklearn.model_selection import train_test_split\n",
    "from sklearn.compose import ColumnTransformer\n",
    "from sklearn.pipeline import Pipeline"
   ]
  },
  {
   "cell_type": "code",
   "execution_count": 24,
   "id": "f4a8a929",
   "metadata": {
    "execution": {
     "iopub.execute_input": "2024-08-26T18:43:07.552113Z",
     "iopub.status.busy": "2024-08-26T18:43:07.551487Z",
     "iopub.status.idle": "2024-08-26T18:43:07.558539Z",
     "shell.execute_reply": "2024-08-26T18:43:07.557810Z"
    },
    "papermill": {
     "duration": 0.020922,
     "end_time": "2024-08-26T18:43:07.560400",
     "exception": false,
     "start_time": "2024-08-26T18:43:07.539478",
     "status": "completed"
    },
    "tags": []
   },
   "outputs": [],
   "source": [
    "X = df.drop(columns=['Yield'])\n",
    "y = df[['Yield']]"
   ]
  },
  {
   "cell_type": "code",
   "execution_count": 25,
   "id": "3b9930b6",
   "metadata": {
    "execution": {
     "iopub.execute_input": "2024-08-26T18:43:07.583935Z",
     "iopub.status.busy": "2024-08-26T18:43:07.583683Z",
     "iopub.status.idle": "2024-08-26T18:43:07.595073Z",
     "shell.execute_reply": "2024-08-26T18:43:07.594385Z"
    },
    "papermill": {
     "duration": 0.025418,
     "end_time": "2024-08-26T18:43:07.597035",
     "exception": false,
     "start_time": "2024-08-26T18:43:07.571617",
     "status": "completed"
    },
    "tags": []
   },
   "outputs": [],
   "source": [
    "X_train,X_test,y_train,y_test = train_test_split(X,y,test_size=0.2,random_state=42)"
   ]
  },
  {
   "cell_type": "markdown",
   "id": "d649ae0d",
   "metadata": {
    "papermill": {
     "duration": 0.01193,
     "end_time": "2024-08-26T18:43:07.620284",
     "exception": false,
     "start_time": "2024-08-26T18:43:07.608354",
     "status": "completed"
    },
    "tags": []
   },
   "source": [
    "## data encoding"
   ]
  },
  {
   "cell_type": "code",
   "execution_count": 26,
   "id": "6a4f02e9",
   "metadata": {
    "execution": {
     "iopub.execute_input": "2024-08-26T18:43:07.643988Z",
     "iopub.status.busy": "2024-08-26T18:43:07.643689Z",
     "iopub.status.idle": "2024-08-26T18:43:07.649613Z",
     "shell.execute_reply": "2024-08-26T18:43:07.648940Z"
    },
    "papermill": {
     "duration": 0.019829,
     "end_time": "2024-08-26T18:43:07.651447",
     "exception": false,
     "start_time": "2024-08-26T18:43:07.631618",
     "status": "completed"
    },
    "tags": []
   },
   "outputs": [],
   "source": [
    "preprocessor = ColumnTransformer(transformers=[\n",
    "    ('yeo_johnson_transform', PowerTransformer(method='yeo-johnson'), num_col),\n",
    "    ('robust_scaler', RobustScaler(),num_col),\n",
    "    ('Season_order', OrdinalEncoder(categories=[['Winter','Summer','Autumn','Rabi','Kharif','Whole Year']]), ['Season']),\n",
    "    ('Year_order',OrdinalEncoder(categories=[['90s','2000s','2010s']]), ['Year_Interval']),\n",
    "    ('OHE', OneHotEncoder(drop='first',handle_unknown='ignore'), nominal_col)\n",
    "], remainder='passthrough')"
   ]
  },
  {
   "cell_type": "markdown",
   "id": "378d7b60",
   "metadata": {
    "papermill": {
     "duration": 0.010672,
     "end_time": "2024-08-26T18:43:07.672985",
     "exception": false,
     "start_time": "2024-08-26T18:43:07.662313",
     "status": "completed"
    },
    "tags": []
   },
   "source": [
    "# Model training"
   ]
  },
  {
   "cell_type": "code",
   "execution_count": 27,
   "id": "8f4e3083",
   "metadata": {
    "execution": {
     "iopub.execute_input": "2024-08-26T18:43:07.696076Z",
     "iopub.status.busy": "2024-08-26T18:43:07.695812Z",
     "iopub.status.idle": "2024-08-26T18:43:07.956126Z",
     "shell.execute_reply": "2024-08-26T18:43:07.955333Z"
    },
    "papermill": {
     "duration": 0.274603,
     "end_time": "2024-08-26T18:43:07.958468",
     "exception": false,
     "start_time": "2024-08-26T18:43:07.683865",
     "status": "completed"
    },
    "tags": []
   },
   "outputs": [],
   "source": [
    "from sklearn.ensemble import RandomForestRegressor\n",
    "from sklearn.feature_selection import SelectKBest, f_regression"
   ]
  },
  {
   "cell_type": "code",
   "execution_count": 28,
   "id": "9756f5e3",
   "metadata": {
    "execution": {
     "iopub.execute_input": "2024-08-26T18:43:07.982871Z",
     "iopub.status.busy": "2024-08-26T18:43:07.982202Z",
     "iopub.status.idle": "2024-08-26T18:43:07.986312Z",
     "shell.execute_reply": "2024-08-26T18:43:07.985482Z"
    },
    "papermill": {
     "duration": 0.018147,
     "end_time": "2024-08-26T18:43:07.988135",
     "exception": false,
     "start_time": "2024-08-26T18:43:07.969988",
     "status": "completed"
    },
    "tags": []
   },
   "outputs": [],
   "source": [
    "# Feature selection using KBest method to reduce curse of dimensionality\n",
    "kbest = SelectKBest(score_func=f_regression, k=40)"
   ]
  },
  {
   "cell_type": "code",
   "execution_count": 29,
   "id": "6bf2852b",
   "metadata": {
    "execution": {
     "iopub.execute_input": "2024-08-26T18:43:08.012130Z",
     "iopub.status.busy": "2024-08-26T18:43:08.011842Z",
     "iopub.status.idle": "2024-08-26T18:43:08.016227Z",
     "shell.execute_reply": "2024-08-26T18:43:08.015338Z"
    },
    "papermill": {
     "duration": 0.018956,
     "end_time": "2024-08-26T18:43:08.018181",
     "exception": false,
     "start_time": "2024-08-26T18:43:07.999225",
     "status": "completed"
    },
    "tags": []
   },
   "outputs": [],
   "source": [
    "# After hyperparameter tuning best parameters are selected to reduce runtime and increse performance of model\n",
    "rf = RandomForestRegressor(max_features=0.75, max_samples=0.75, n_estimators=400, n_jobs=-1)\n",
    "rf1 = RandomForestRegressor()"
   ]
  },
  {
   "cell_type": "code",
   "execution_count": 30,
   "id": "7dfa8c9a",
   "metadata": {
    "execution": {
     "iopub.execute_input": "2024-08-26T18:43:08.042706Z",
     "iopub.status.busy": "2024-08-26T18:43:08.041943Z",
     "iopub.status.idle": "2024-08-26T18:43:08.046309Z",
     "shell.execute_reply": "2024-08-26T18:43:08.045474Z"
    },
    "papermill": {
     "duration": 0.018812,
     "end_time": "2024-08-26T18:43:08.048175",
     "exception": false,
     "start_time": "2024-08-26T18:43:08.029363",
     "status": "completed"
    },
    "tags": []
   },
   "outputs": [],
   "source": [
    "pipe = Pipeline(steps=[\n",
    "    ('preprocessor', preprocessor),\n",
    "    ('kbest', kbest),\n",
    "    ('RF_regressor', rf1)\n",
    "])"
   ]
  },
  {
   "cell_type": "code",
   "execution_count": 31,
   "id": "89d741be",
   "metadata": {
    "execution": {
     "iopub.execute_input": "2024-08-26T18:43:08.071458Z",
     "iopub.status.busy": "2024-08-26T18:43:08.071137Z",
     "iopub.status.idle": "2024-08-26T18:44:17.262215Z",
     "shell.execute_reply": "2024-08-26T18:44:17.261329Z"
    },
    "papermill": {
     "duration": 69.216393,
     "end_time": "2024-08-26T18:44:17.275694",
     "exception": false,
     "start_time": "2024-08-26T18:43:08.059301",
     "status": "completed"
    },
    "tags": []
   },
   "outputs": [
    {
     "data": {
      "text/html": [
       "<style>#sk-container-id-1 {color: black;}#sk-container-id-1 pre{padding: 0;}#sk-container-id-1 div.sk-toggleable {background-color: white;}#sk-container-id-1 label.sk-toggleable__label {cursor: pointer;display: block;width: 100%;margin-bottom: 0;padding: 0.3em;box-sizing: border-box;text-align: center;}#sk-container-id-1 label.sk-toggleable__label-arrow:before {content: \"▸\";float: left;margin-right: 0.25em;color: #696969;}#sk-container-id-1 label.sk-toggleable__label-arrow:hover:before {color: black;}#sk-container-id-1 div.sk-estimator:hover label.sk-toggleable__label-arrow:before {color: black;}#sk-container-id-1 div.sk-toggleable__content {max-height: 0;max-width: 0;overflow: hidden;text-align: left;background-color: #f0f8ff;}#sk-container-id-1 div.sk-toggleable__content pre {margin: 0.2em;color: black;border-radius: 0.25em;background-color: #f0f8ff;}#sk-container-id-1 input.sk-toggleable__control:checked~div.sk-toggleable__content {max-height: 200px;max-width: 100%;overflow: auto;}#sk-container-id-1 input.sk-toggleable__control:checked~label.sk-toggleable__label-arrow:before {content: \"▾\";}#sk-container-id-1 div.sk-estimator input.sk-toggleable__control:checked~label.sk-toggleable__label {background-color: #d4ebff;}#sk-container-id-1 div.sk-label input.sk-toggleable__control:checked~label.sk-toggleable__label {background-color: #d4ebff;}#sk-container-id-1 input.sk-hidden--visually {border: 0;clip: rect(1px 1px 1px 1px);clip: rect(1px, 1px, 1px, 1px);height: 1px;margin: -1px;overflow: hidden;padding: 0;position: absolute;width: 1px;}#sk-container-id-1 div.sk-estimator {font-family: monospace;background-color: #f0f8ff;border: 1px dotted black;border-radius: 0.25em;box-sizing: border-box;margin-bottom: 0.5em;}#sk-container-id-1 div.sk-estimator:hover {background-color: #d4ebff;}#sk-container-id-1 div.sk-parallel-item::after {content: \"\";width: 100%;border-bottom: 1px solid gray;flex-grow: 1;}#sk-container-id-1 div.sk-label:hover label.sk-toggleable__label {background-color: #d4ebff;}#sk-container-id-1 div.sk-serial::before {content: \"\";position: absolute;border-left: 1px solid gray;box-sizing: border-box;top: 0;bottom: 0;left: 50%;z-index: 0;}#sk-container-id-1 div.sk-serial {display: flex;flex-direction: column;align-items: center;background-color: white;padding-right: 0.2em;padding-left: 0.2em;position: relative;}#sk-container-id-1 div.sk-item {position: relative;z-index: 1;}#sk-container-id-1 div.sk-parallel {display: flex;align-items: stretch;justify-content: center;background-color: white;position: relative;}#sk-container-id-1 div.sk-item::before, #sk-container-id-1 div.sk-parallel-item::before {content: \"\";position: absolute;border-left: 1px solid gray;box-sizing: border-box;top: 0;bottom: 0;left: 50%;z-index: -1;}#sk-container-id-1 div.sk-parallel-item {display: flex;flex-direction: column;z-index: 1;position: relative;background-color: white;}#sk-container-id-1 div.sk-parallel-item:first-child::after {align-self: flex-end;width: 50%;}#sk-container-id-1 div.sk-parallel-item:last-child::after {align-self: flex-start;width: 50%;}#sk-container-id-1 div.sk-parallel-item:only-child::after {width: 0;}#sk-container-id-1 div.sk-dashed-wrapped {border: 1px dashed gray;margin: 0 0.4em 0.5em 0.4em;box-sizing: border-box;padding-bottom: 0.4em;background-color: white;}#sk-container-id-1 div.sk-label label {font-family: monospace;font-weight: bold;display: inline-block;line-height: 1.2em;}#sk-container-id-1 div.sk-label-container {text-align: center;}#sk-container-id-1 div.sk-container {/* jupyter's `normalize.less` sets `[hidden] { display: none; }` but bootstrap.min.css set `[hidden] { display: none !important; }` so we also need the `!important` here to be able to override the default hidden behavior on the sphinx rendered scikit-learn.org. See: https://github.com/scikit-learn/scikit-learn/issues/21755 */display: inline-block !important;position: relative;}#sk-container-id-1 div.sk-text-repr-fallback {display: none;}</style><div id=\"sk-container-id-1\" class=\"sk-top-container\"><div class=\"sk-text-repr-fallback\"><pre>Pipeline(steps=[(&#x27;preprocessor&#x27;,\n",
       "                 ColumnTransformer(remainder=&#x27;passthrough&#x27;,\n",
       "                                   transformers=[(&#x27;yeo_johnson_transform&#x27;,\n",
       "                                                  PowerTransformer(),\n",
       "                                                  [&#x27;Area&#x27;, &#x27;Production&#x27;,\n",
       "                                                   &#x27;Annual_Rainfall&#x27;,\n",
       "                                                   &#x27;Input_Per_Unit_Area&#x27;]),\n",
       "                                                 (&#x27;robust_scaler&#x27;,\n",
       "                                                  RobustScaler(),\n",
       "                                                  [&#x27;Area&#x27;, &#x27;Production&#x27;,\n",
       "                                                   &#x27;Annual_Rainfall&#x27;,\n",
       "                                                   &#x27;Input_Per_Unit_Area&#x27;]),\n",
       "                                                 (&#x27;Season_order&#x27;,\n",
       "                                                  OrdinalEncoder(categories=[[&#x27;Winter&#x27;,\n",
       "                                                                              &#x27;Summer&#x27;,\n",
       "                                                                              &#x27;Autumn&#x27;,\n",
       "                                                                              &#x27;Rabi&#x27;,\n",
       "                                                                              &#x27;Kharif&#x27;,\n",
       "                                                                              &#x27;Whole &#x27;\n",
       "                                                                              &#x27;Year&#x27;]]),\n",
       "                                                  [&#x27;Season&#x27;]),\n",
       "                                                 (&#x27;Year_order&#x27;,\n",
       "                                                  OrdinalEncoder(categories=[[&#x27;90s&#x27;,\n",
       "                                                                              &#x27;2000s&#x27;,\n",
       "                                                                              &#x27;2010s&#x27;]]),\n",
       "                                                  [&#x27;Year_Interval&#x27;]),\n",
       "                                                 (&#x27;OHE&#x27;,\n",
       "                                                  OneHotEncoder(drop=&#x27;first&#x27;,\n",
       "                                                                handle_unknown=&#x27;ignore&#x27;),\n",
       "                                                  [&#x27;Crop&#x27;, &#x27;State&#x27;])])),\n",
       "                (&#x27;kbest&#x27;,\n",
       "                 SelectKBest(k=40,\n",
       "                             score_func=&lt;function f_regression at 0x000002D5255A9D00&gt;)),\n",
       "                (&#x27;RF_regressor&#x27;, RandomForestRegressor())])</pre><b>In a Jupyter environment, please rerun this cell to show the HTML representation or trust the notebook. <br />On GitHub, the HTML representation is unable to render, please try loading this page with nbviewer.org.</b></div><div class=\"sk-container\" hidden><div class=\"sk-item sk-dashed-wrapped\"><div class=\"sk-label-container\"><div class=\"sk-label sk-toggleable\"><input class=\"sk-toggleable__control sk-hidden--visually\" id=\"sk-estimator-id-1\" type=\"checkbox\" ><label for=\"sk-estimator-id-1\" class=\"sk-toggleable__label sk-toggleable__label-arrow\">Pipeline</label><div class=\"sk-toggleable__content\"><pre>Pipeline(steps=[(&#x27;preprocessor&#x27;,\n",
       "                 ColumnTransformer(remainder=&#x27;passthrough&#x27;,\n",
       "                                   transformers=[(&#x27;yeo_johnson_transform&#x27;,\n",
       "                                                  PowerTransformer(),\n",
       "                                                  [&#x27;Area&#x27;, &#x27;Production&#x27;,\n",
       "                                                   &#x27;Annual_Rainfall&#x27;,\n",
       "                                                   &#x27;Input_Per_Unit_Area&#x27;]),\n",
       "                                                 (&#x27;robust_scaler&#x27;,\n",
       "                                                  RobustScaler(),\n",
       "                                                  [&#x27;Area&#x27;, &#x27;Production&#x27;,\n",
       "                                                   &#x27;Annual_Rainfall&#x27;,\n",
       "                                                   &#x27;Input_Per_Unit_Area&#x27;]),\n",
       "                                                 (&#x27;Season_order&#x27;,\n",
       "                                                  OrdinalEncoder(categories=[[&#x27;Winter&#x27;,\n",
       "                                                                              &#x27;Summer&#x27;,\n",
       "                                                                              &#x27;Autumn&#x27;,\n",
       "                                                                              &#x27;Rabi&#x27;,\n",
       "                                                                              &#x27;Kharif&#x27;,\n",
       "                                                                              &#x27;Whole &#x27;\n",
       "                                                                              &#x27;Year&#x27;]]),\n",
       "                                                  [&#x27;Season&#x27;]),\n",
       "                                                 (&#x27;Year_order&#x27;,\n",
       "                                                  OrdinalEncoder(categories=[[&#x27;90s&#x27;,\n",
       "                                                                              &#x27;2000s&#x27;,\n",
       "                                                                              &#x27;2010s&#x27;]]),\n",
       "                                                  [&#x27;Year_Interval&#x27;]),\n",
       "                                                 (&#x27;OHE&#x27;,\n",
       "                                                  OneHotEncoder(drop=&#x27;first&#x27;,\n",
       "                                                                handle_unknown=&#x27;ignore&#x27;),\n",
       "                                                  [&#x27;Crop&#x27;, &#x27;State&#x27;])])),\n",
       "                (&#x27;kbest&#x27;,\n",
       "                 SelectKBest(k=40,\n",
       "                             score_func=&lt;function f_regression at 0x000002D5255A9D00&gt;)),\n",
       "                (&#x27;RF_regressor&#x27;, RandomForestRegressor())])</pre></div></div></div><div class=\"sk-serial\"><div class=\"sk-item sk-dashed-wrapped\"><div class=\"sk-label-container\"><div class=\"sk-label sk-toggleable\"><input class=\"sk-toggleable__control sk-hidden--visually\" id=\"sk-estimator-id-2\" type=\"checkbox\" ><label for=\"sk-estimator-id-2\" class=\"sk-toggleable__label sk-toggleable__label-arrow\">preprocessor: ColumnTransformer</label><div class=\"sk-toggleable__content\"><pre>ColumnTransformer(remainder=&#x27;passthrough&#x27;,\n",
       "                  transformers=[(&#x27;yeo_johnson_transform&#x27;, PowerTransformer(),\n",
       "                                 [&#x27;Area&#x27;, &#x27;Production&#x27;, &#x27;Annual_Rainfall&#x27;,\n",
       "                                  &#x27;Input_Per_Unit_Area&#x27;]),\n",
       "                                (&#x27;robust_scaler&#x27;, RobustScaler(),\n",
       "                                 [&#x27;Area&#x27;, &#x27;Production&#x27;, &#x27;Annual_Rainfall&#x27;,\n",
       "                                  &#x27;Input_Per_Unit_Area&#x27;]),\n",
       "                                (&#x27;Season_order&#x27;,\n",
       "                                 OrdinalEncoder(categories=[[&#x27;Winter&#x27;, &#x27;Summer&#x27;,\n",
       "                                                             &#x27;Autumn&#x27;, &#x27;Rabi&#x27;,\n",
       "                                                             &#x27;Kharif&#x27;,\n",
       "                                                             &#x27;Whole Year&#x27;]]),\n",
       "                                 [&#x27;Season&#x27;]),\n",
       "                                (&#x27;Year_order&#x27;,\n",
       "                                 OrdinalEncoder(categories=[[&#x27;90s&#x27;, &#x27;2000s&#x27;,\n",
       "                                                             &#x27;2010s&#x27;]]),\n",
       "                                 [&#x27;Year_Interval&#x27;]),\n",
       "                                (&#x27;OHE&#x27;,\n",
       "                                 OneHotEncoder(drop=&#x27;first&#x27;,\n",
       "                                               handle_unknown=&#x27;ignore&#x27;),\n",
       "                                 [&#x27;Crop&#x27;, &#x27;State&#x27;])])</pre></div></div></div><div class=\"sk-parallel\"><div class=\"sk-parallel-item\"><div class=\"sk-item\"><div class=\"sk-label-container\"><div class=\"sk-label sk-toggleable\"><input class=\"sk-toggleable__control sk-hidden--visually\" id=\"sk-estimator-id-3\" type=\"checkbox\" ><label for=\"sk-estimator-id-3\" class=\"sk-toggleable__label sk-toggleable__label-arrow\">yeo_johnson_transform</label><div class=\"sk-toggleable__content\"><pre>[&#x27;Area&#x27;, &#x27;Production&#x27;, &#x27;Annual_Rainfall&#x27;, &#x27;Input_Per_Unit_Area&#x27;]</pre></div></div></div><div class=\"sk-serial\"><div class=\"sk-item\"><div class=\"sk-estimator sk-toggleable\"><input class=\"sk-toggleable__control sk-hidden--visually\" id=\"sk-estimator-id-4\" type=\"checkbox\" ><label for=\"sk-estimator-id-4\" class=\"sk-toggleable__label sk-toggleable__label-arrow\">PowerTransformer</label><div class=\"sk-toggleable__content\"><pre>PowerTransformer()</pre></div></div></div></div></div></div><div class=\"sk-parallel-item\"><div class=\"sk-item\"><div class=\"sk-label-container\"><div class=\"sk-label sk-toggleable\"><input class=\"sk-toggleable__control sk-hidden--visually\" id=\"sk-estimator-id-5\" type=\"checkbox\" ><label for=\"sk-estimator-id-5\" class=\"sk-toggleable__label sk-toggleable__label-arrow\">robust_scaler</label><div class=\"sk-toggleable__content\"><pre>[&#x27;Area&#x27;, &#x27;Production&#x27;, &#x27;Annual_Rainfall&#x27;, &#x27;Input_Per_Unit_Area&#x27;]</pre></div></div></div><div class=\"sk-serial\"><div class=\"sk-item\"><div class=\"sk-estimator sk-toggleable\"><input class=\"sk-toggleable__control sk-hidden--visually\" id=\"sk-estimator-id-6\" type=\"checkbox\" ><label for=\"sk-estimator-id-6\" class=\"sk-toggleable__label sk-toggleable__label-arrow\">RobustScaler</label><div class=\"sk-toggleable__content\"><pre>RobustScaler()</pre></div></div></div></div></div></div><div class=\"sk-parallel-item\"><div class=\"sk-item\"><div class=\"sk-label-container\"><div class=\"sk-label sk-toggleable\"><input class=\"sk-toggleable__control sk-hidden--visually\" id=\"sk-estimator-id-7\" type=\"checkbox\" ><label for=\"sk-estimator-id-7\" class=\"sk-toggleable__label sk-toggleable__label-arrow\">Season_order</label><div class=\"sk-toggleable__content\"><pre>[&#x27;Season&#x27;]</pre></div></div></div><div class=\"sk-serial\"><div class=\"sk-item\"><div class=\"sk-estimator sk-toggleable\"><input class=\"sk-toggleable__control sk-hidden--visually\" id=\"sk-estimator-id-8\" type=\"checkbox\" ><label for=\"sk-estimator-id-8\" class=\"sk-toggleable__label sk-toggleable__label-arrow\">OrdinalEncoder</label><div class=\"sk-toggleable__content\"><pre>OrdinalEncoder(categories=[[&#x27;Winter&#x27;, &#x27;Summer&#x27;, &#x27;Autumn&#x27;, &#x27;Rabi&#x27;, &#x27;Kharif&#x27;,\n",
       "                            &#x27;Whole Year&#x27;]])</pre></div></div></div></div></div></div><div class=\"sk-parallel-item\"><div class=\"sk-item\"><div class=\"sk-label-container\"><div class=\"sk-label sk-toggleable\"><input class=\"sk-toggleable__control sk-hidden--visually\" id=\"sk-estimator-id-9\" type=\"checkbox\" ><label for=\"sk-estimator-id-9\" class=\"sk-toggleable__label sk-toggleable__label-arrow\">Year_order</label><div class=\"sk-toggleable__content\"><pre>[&#x27;Year_Interval&#x27;]</pre></div></div></div><div class=\"sk-serial\"><div class=\"sk-item\"><div class=\"sk-estimator sk-toggleable\"><input class=\"sk-toggleable__control sk-hidden--visually\" id=\"sk-estimator-id-10\" type=\"checkbox\" ><label for=\"sk-estimator-id-10\" class=\"sk-toggleable__label sk-toggleable__label-arrow\">OrdinalEncoder</label><div class=\"sk-toggleable__content\"><pre>OrdinalEncoder(categories=[[&#x27;90s&#x27;, &#x27;2000s&#x27;, &#x27;2010s&#x27;]])</pre></div></div></div></div></div></div><div class=\"sk-parallel-item\"><div class=\"sk-item\"><div class=\"sk-label-container\"><div class=\"sk-label sk-toggleable\"><input class=\"sk-toggleable__control sk-hidden--visually\" id=\"sk-estimator-id-11\" type=\"checkbox\" ><label for=\"sk-estimator-id-11\" class=\"sk-toggleable__label sk-toggleable__label-arrow\">OHE</label><div class=\"sk-toggleable__content\"><pre>[&#x27;Crop&#x27;, &#x27;State&#x27;]</pre></div></div></div><div class=\"sk-serial\"><div class=\"sk-item\"><div class=\"sk-estimator sk-toggleable\"><input class=\"sk-toggleable__control sk-hidden--visually\" id=\"sk-estimator-id-12\" type=\"checkbox\" ><label for=\"sk-estimator-id-12\" class=\"sk-toggleable__label sk-toggleable__label-arrow\">OneHotEncoder</label><div class=\"sk-toggleable__content\"><pre>OneHotEncoder(drop=&#x27;first&#x27;, handle_unknown=&#x27;ignore&#x27;)</pre></div></div></div></div></div></div><div class=\"sk-parallel-item\"><div class=\"sk-item\"><div class=\"sk-label-container\"><div class=\"sk-label sk-toggleable\"><input class=\"sk-toggleable__control sk-hidden--visually\" id=\"sk-estimator-id-13\" type=\"checkbox\" ><label for=\"sk-estimator-id-13\" class=\"sk-toggleable__label sk-toggleable__label-arrow\">remainder</label><div class=\"sk-toggleable__content\"><pre>[]</pre></div></div></div><div class=\"sk-serial\"><div class=\"sk-item\"><div class=\"sk-estimator sk-toggleable\"><input class=\"sk-toggleable__control sk-hidden--visually\" id=\"sk-estimator-id-14\" type=\"checkbox\" ><label for=\"sk-estimator-id-14\" class=\"sk-toggleable__label sk-toggleable__label-arrow\">passthrough</label><div class=\"sk-toggleable__content\"><pre>passthrough</pre></div></div></div></div></div></div></div></div><div class=\"sk-item\"><div class=\"sk-estimator sk-toggleable\"><input class=\"sk-toggleable__control sk-hidden--visually\" id=\"sk-estimator-id-15\" type=\"checkbox\" ><label for=\"sk-estimator-id-15\" class=\"sk-toggleable__label sk-toggleable__label-arrow\">SelectKBest</label><div class=\"sk-toggleable__content\"><pre>SelectKBest(k=40, score_func=&lt;function f_regression at 0x000002D5255A9D00&gt;)</pre></div></div></div><div class=\"sk-item\"><div class=\"sk-estimator sk-toggleable\"><input class=\"sk-toggleable__control sk-hidden--visually\" id=\"sk-estimator-id-16\" type=\"checkbox\" ><label for=\"sk-estimator-id-16\" class=\"sk-toggleable__label sk-toggleable__label-arrow\">RandomForestRegressor</label><div class=\"sk-toggleable__content\"><pre>RandomForestRegressor()</pre></div></div></div></div></div></div></div>"
      ],
      "text/plain": [
       "Pipeline(steps=[('preprocessor',\n",
       "                 ColumnTransformer(remainder='passthrough',\n",
       "                                   transformers=[('yeo_johnson_transform',\n",
       "                                                  PowerTransformer(),\n",
       "                                                  ['Area', 'Production',\n",
       "                                                   'Annual_Rainfall',\n",
       "                                                   'Input_Per_Unit_Area']),\n",
       "                                                 ('robust_scaler',\n",
       "                                                  RobustScaler(),\n",
       "                                                  ['Area', 'Production',\n",
       "                                                   'Annual_Rainfall',\n",
       "                                                   'Input_Per_Unit_Area']),\n",
       "                                                 ('Season_order',\n",
       "                                                  OrdinalEncoder(categories=[['Winter',\n",
       "                                                                              'Summer',\n",
       "                                                                              'Autumn',\n",
       "                                                                              'Rabi',\n",
       "                                                                              'Kharif',\n",
       "                                                                              'Whole '\n",
       "                                                                              'Year']]),\n",
       "                                                  ['Season']),\n",
       "                                                 ('Year_order',\n",
       "                                                  OrdinalEncoder(categories=[['90s',\n",
       "                                                                              '2000s',\n",
       "                                                                              '2010s']]),\n",
       "                                                  ['Year_Interval']),\n",
       "                                                 ('OHE',\n",
       "                                                  OneHotEncoder(drop='first',\n",
       "                                                                handle_unknown='ignore'),\n",
       "                                                  ['Crop', 'State'])])),\n",
       "                ('kbest',\n",
       "                 SelectKBest(k=40,\n",
       "                             score_func=<function f_regression at 0x000002D5255A9D00>)),\n",
       "                ('RF_regressor', RandomForestRegressor())])"
      ]
     },
     "execution_count": 31,
     "metadata": {},
     "output_type": "execute_result"
    }
   ],
   "source": [
    "pipe.fit(X_train,y_train.values.ravel())"
   ]
  },
  {
   "cell_type": "code",
   "execution_count": 32,
   "id": "311fb48e",
   "metadata": {
    "execution": {
     "iopub.execute_input": "2024-08-26T18:44:17.299864Z",
     "iopub.status.busy": "2024-08-26T18:44:17.299539Z",
     "iopub.status.idle": "2024-08-26T18:44:17.520669Z",
     "shell.execute_reply": "2024-08-26T18:44:17.519867Z"
    },
    "papermill": {
     "duration": 0.235785,
     "end_time": "2024-08-26T18:44:17.522910",
     "exception": false,
     "start_time": "2024-08-26T18:44:17.287125",
     "status": "completed"
    },
    "tags": []
   },
   "outputs": [],
   "source": [
    "y_pred = pipe.predict(X_test)"
   ]
  },
  {
   "cell_type": "code",
   "execution_count": 33,
   "id": "33c87851",
   "metadata": {
    "execution": {
     "iopub.execute_input": "2024-08-26T18:44:17.548336Z",
     "iopub.status.busy": "2024-08-26T18:44:17.548032Z",
     "iopub.status.idle": "2024-08-26T18:44:17.556383Z",
     "shell.execute_reply": "2024-08-26T18:44:17.555491Z"
    },
    "papermill": {
     "duration": 0.023086,
     "end_time": "2024-08-26T18:44:17.558333",
     "exception": false,
     "start_time": "2024-08-26T18:44:17.535247",
     "status": "completed"
    },
    "tags": []
   },
   "outputs": [
    {
     "data": {
      "text/plain": [
       "0.9345322187463024"
      ]
     },
     "execution_count": 33,
     "metadata": {},
     "output_type": "execute_result"
    }
   ],
   "source": [
    "from sklearn.metrics import accuracy_score, r2_score\n",
    "r2_score(y_test,y_pred)"
   ]
  }
 ],
 "metadata": {
  "kaggle": {
   "accelerator": "nvidiaTeslaT4",
   "dataSources": [
    {
     "datasetId": 3525502,
     "sourceId": 6147658,
     "sourceType": "datasetVersion"
    }
   ],
   "dockerImageVersionId": 30746,
   "isGpuEnabled": true,
   "isInternetEnabled": true,
   "language": "python",
   "sourceType": "notebook"
  },
  "kernelspec": {
   "display_name": "Python 3",
   "language": "python",
   "name": "python3"
  },
  "language_info": {
   "codemirror_mode": {
    "name": "ipython",
    "version": 3
   },
   "file_extension": ".py",
   "mimetype": "text/x-python",
   "name": "python",
   "nbconvert_exporter": "python",
   "pygments_lexer": "ipython3",
   "version": "3.11.5"
  },
  "papermill": {
   "default_parameters": {},
   "duration": 76.413371,
   "end_time": "2024-08-26T18:44:18.115969",
   "environment_variables": {},
   "exception": null,
   "input_path": "__notebook__.ipynb",
   "output_path": "__notebook__.ipynb",
   "parameters": {},
   "start_time": "2024-08-26T18:43:01.702598",
   "version": "2.5.0"
  }
 },
 "nbformat": 4,
 "nbformat_minor": 5
}
